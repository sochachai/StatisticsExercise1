{
 "cells": [
  {
   "cell_type": "markdown",
   "metadata": {},
   "source": [
    "# What is the True Normal Human Body Temperature? \n",
    "\n",
    "#### Background\n",
    "\n",
    "The mean normal body temperature was held to be 37$^{\\circ}$C or 98.6$^{\\circ}$F for more than 120 years since it was first conceptualized and reported by Carl Wunderlich in a famous 1868 book. But, is this value statistically correct?"
   ]
  },
  {
   "cell_type": "markdown",
   "metadata": {},
   "source": [
    "<h3>Exercises</h3>\n",
    "\n",
    "<p>In this exercise, you will analyze a dataset of human body temperatures and employ the concepts of hypothesis testing, confidence intervals, and statistical significance.</p>\n",
    "\n",
    "<p>Answer the following questions <b>in this notebook below and submit to your Github account</b>.</p> \n",
    "\n",
    "<ol>\n",
    "<li>  Is the distribution of body temperatures normal? \n",
    "    <ul>\n",
    "    <li> Although this is not a requirement for the Central Limit Theorem to hold (read the introduction on Wikipedia's page about the CLT carefully: https://en.wikipedia.org/wiki/Central_limit_theorem), it gives us some peace of mind that the population may also be normally distributed if we assume that this sample is representative of the population.\n",
    "    <li> Think about the way you're going to check for the normality of the distribution. Graphical methods are usually used first, but there are also other ways: https://en.wikipedia.org/wiki/Normality_test\n",
    "    </ul>\n",
    "<li>  Is the sample size large? Are the observations independent?\n",
    "    <ul>\n",
    "    <li> Remember that this is a condition for the Central Limit Theorem, and hence the statistical tests we are using, to apply.\n",
    "    </ul>\n",
    "<li>  Is the true population mean really 98.6 degrees F?\n",
    "    <ul>\n",
    "    <li> First, try a bootstrap hypothesis test.\n",
    "    <li> Now, let's try frequentist statistical testing. Would you use a one-sample or two-sample test? Why?\n",
    "    <li> In this situation, is it appropriate to use the $t$ or $z$ statistic? \n",
    "    <li> Now try using the other test. How is the result be different? Why?\n",
    "    </ul>\n",
    "<li>  Draw a small sample of size 10 from the data and repeat both frequentist tests. \n",
    "    <ul>\n",
    "    <li> Which one is the correct one to use? \n",
    "    <li> What do you notice? What does this tell you about the difference in application of the $t$ and $z$ statistic?\n",
    "    </ul>\n",
    "<li>  At what temperature should we consider someone's temperature to be \"abnormal\"?\n",
    "    <ul>\n",
    "    <li> As in the previous example, try calculating everything using the boostrap approach, as well as the frequentist approach.\n",
    "    <li> Start by computing the margin of error and confidence interval. When calculating the confidence interval, keep in mind that you should use the appropriate formula for one draw, and not N draws.\n",
    "    </ul>\n",
    "<li>  Is there a significant difference between males and females in normal temperature?\n",
    "    <ul>\n",
    "    <li> What testing approach did you use and why?\n",
    "    <li> Write a story with your conclusion in the context of the original problem.\n",
    "    </ul>\n",
    "</ol>\n",
    "\n",
    "You can include written notes in notebook cells using Markdown: \n",
    "   - In the control panel at the top, choose Cell > Cell Type > Markdown\n",
    "   - Markdown syntax: http://nestacms.com/docs/creating-content/markdown-cheat-sheet\n",
    "\n",
    "#### Resources\n",
    "\n",
    "+ Information and data sources: http://www.amstat.org/publications/jse/datasets/normtemp.txt, http://www.amstat.org/publications/jse/jse_data_archive.htm\n",
    "+ Markdown syntax: http://nestacms.com/docs/creating-content/markdown-cheat-sheet\n",
    "\n",
    "****"
   ]
  },
  {
   "cell_type": "code",
   "execution_count": 1,
   "metadata": {},
   "outputs": [],
   "source": [
    "import pandas as pd\n",
    "\n",
    "df = pd.read_csv('data/human_body_temperature.csv')"
   ]
  },
  {
   "cell_type": "code",
   "execution_count": 2,
   "metadata": {},
   "outputs": [
    {
     "data": {
      "text/html": [
       "<div>\n",
       "<style scoped>\n",
       "    .dataframe tbody tr th:only-of-type {\n",
       "        vertical-align: middle;\n",
       "    }\n",
       "\n",
       "    .dataframe tbody tr th {\n",
       "        vertical-align: top;\n",
       "    }\n",
       "\n",
       "    .dataframe thead th {\n",
       "        text-align: right;\n",
       "    }\n",
       "</style>\n",
       "<table border=\"1\" class=\"dataframe\">\n",
       "  <thead>\n",
       "    <tr style=\"text-align: right;\">\n",
       "      <th></th>\n",
       "      <th>temperature</th>\n",
       "      <th>gender</th>\n",
       "      <th>heart_rate</th>\n",
       "    </tr>\n",
       "  </thead>\n",
       "  <tbody>\n",
       "    <tr>\n",
       "      <th>0</th>\n",
       "      <td>99.3</td>\n",
       "      <td>F</td>\n",
       "      <td>68.0</td>\n",
       "    </tr>\n",
       "    <tr>\n",
       "      <th>1</th>\n",
       "      <td>98.4</td>\n",
       "      <td>F</td>\n",
       "      <td>81.0</td>\n",
       "    </tr>\n",
       "    <tr>\n",
       "      <th>2</th>\n",
       "      <td>97.8</td>\n",
       "      <td>M</td>\n",
       "      <td>73.0</td>\n",
       "    </tr>\n",
       "    <tr>\n",
       "      <th>3</th>\n",
       "      <td>99.2</td>\n",
       "      <td>F</td>\n",
       "      <td>66.0</td>\n",
       "    </tr>\n",
       "    <tr>\n",
       "      <th>4</th>\n",
       "      <td>98.0</td>\n",
       "      <td>F</td>\n",
       "      <td>73.0</td>\n",
       "    </tr>\n",
       "  </tbody>\n",
       "</table>\n",
       "</div>"
      ],
      "text/plain": [
       "   temperature gender  heart_rate\n",
       "0         99.3      F        68.0\n",
       "1         98.4      F        81.0\n",
       "2         97.8      M        73.0\n",
       "3         99.2      F        66.0\n",
       "4         98.0      F        73.0"
      ]
     },
     "execution_count": 2,
     "metadata": {},
     "output_type": "execute_result"
    }
   ],
   "source": [
    "# Your work here.\n",
    "df.head(5)"
   ]
  },
  {
   "cell_type": "code",
   "execution_count": 3,
   "metadata": {},
   "outputs": [
    {
     "data": {
      "text/plain": [
       "130"
      ]
     },
     "execution_count": 3,
     "metadata": {},
     "output_type": "execute_result"
    }
   ],
   "source": [
    "len(df)"
   ]
  },
  {
   "cell_type": "code",
   "execution_count": 4,
   "metadata": {},
   "outputs": [
    {
     "data": {
      "text/plain": [
       "<Figure size 640x480 with 1 Axes>"
      ]
     },
     "metadata": {},
     "output_type": "display_data"
    }
   ],
   "source": [
    "import matplotlib.pyplot as plt\n",
    "import numpy as np\n",
    "plt.hist(df.temperature,bins=np.arange(min(df.temperature), max(df.temperature) + 0.5, 0.2))\n",
    "plt.show()"
   ]
  },
  {
   "cell_type": "markdown",
   "metadata": {},
   "source": [
    "## 1.The histogram looks like a bell shape. The distribution is roughly normal."
   ]
  },
  {
   "cell_type": "markdown",
   "metadata": {},
   "source": [
    "## 2.The sample size is 130 which is considered to be large enough and the observations are considered to be independent."
   ]
  },
  {
   "cell_type": "markdown",
   "metadata": {},
   "source": [
    "## 3.The following is a bootstap hypothesis test."
   ]
  },
  {
   "cell_type": "code",
   "execution_count": 5,
   "metadata": {},
   "outputs": [
    {
     "data": {
      "text/plain": [
       "98.24923076923078"
      ]
     },
     "execution_count": 5,
     "metadata": {},
     "output_type": "execute_result"
    }
   ],
   "source": [
    "np.mean(df.temperature)"
   ]
  },
  {
   "cell_type": "markdown",
   "metadata": {},
   "source": [
    "## Since the mean of the temperatures is 98.25 which is less than 98.6, we choose the null hypothesis as H0: the true mean >98.6 against the alternative hypothesis: the true mean <=98.6."
   ]
  },
  {
   "cell_type": "code",
   "execution_count": 38,
   "metadata": {},
   "outputs": [],
   "source": [
    "def draw_data_reps(df_col,func,size=130):\n",
    "    perm_replicates = np.empty(size)\n",
    "    for i in range(size):\n",
    "        perm_replicates[i]=func(np.random.choice(df_col,5))\n",
    "    return perm_replicates"
   ]
  },
  {
   "cell_type": "code",
   "execution_count": 39,
   "metadata": {},
   "outputs": [
    {
     "data": {
      "text/plain": [
       "array([98.34, 98.32, 98.16, 98.1 , 98.3 , 97.94, 98.08, 98.1 , 97.88,\n",
       "       98.4 , 97.86, 98.2 , 98.36, 98.74, 98.24, 98.28, 98.56, 98.22,\n",
       "       98.02, 98.88, 98.18, 98.72, 97.78, 98.44, 98.36, 99.14, 98.4 ,\n",
       "       97.98, 98.14, 98.52, 97.38, 98.2 , 98.2 , 98.36, 98.36, 97.9 ,\n",
       "       98.72, 98.54, 98.76, 98.48, 98.74, 98.12, 98.66, 98.26, 98.64,\n",
       "       98.88, 97.94, 98.2 , 98.28, 98.54, 97.9 , 98.48, 98.42, 98.  ,\n",
       "       98.36, 98.18, 98.48, 98.68, 98.18, 97.98, 98.48, 98.08, 98.7 ,\n",
       "       98.28, 98.04, 98.12, 97.98, 98.7 , 98.52, 98.3 , 97.48, 98.22,\n",
       "       99.12, 97.74, 98.58, 98.14, 97.84, 98.46, 98.54, 98.36, 98.24,\n",
       "       98.3 , 98.54, 97.88, 98.94, 98.1 , 98.72, 98.22, 98.2 , 98.3 ,\n",
       "       98.26, 98.34, 98.2 , 98.  , 98.18, 97.38, 98.14, 98.54, 97.58,\n",
       "       97.94, 98.4 , 98.5 , 98.34, 97.7 , 98.12, 98.62, 97.64, 98.44,\n",
       "       98.04, 98.72, 98.42, 97.74, 98.5 , 97.78, 98.4 , 98.18, 99.18,\n",
       "       97.34, 98.54, 98.22, 98.58, 98.94, 97.94, 98.1 , 98.2 , 97.98,\n",
       "       97.92, 98.06, 98.36, 98.46])"
      ]
     },
     "execution_count": 39,
     "metadata": {},
     "output_type": "execute_result"
    }
   ],
   "source": [
    "bootstrap_samples = draw_data_reps(df['temperature'],np.mean,130)\n",
    "bootstrap_samples"
   ]
  },
  {
   "cell_type": "code",
   "execution_count": 40,
   "metadata": {},
   "outputs": [
    {
     "data": {
      "text/plain": [
       "array([ 99.65076923,  98.75076923,  98.15076923,  99.55076923,\n",
       "        98.35076923,  99.55076923,  98.35076923,  99.15076923,\n",
       "        98.75076923,  98.95076923,  99.15076923,  97.05076923,\n",
       "        98.55076923,  99.05076923,  98.15076923,  99.15076923,\n",
       "        98.65076923,  98.55076923,  97.55076923,  99.75076923,\n",
       "        98.65076923,  98.55076923,  98.95076923,  98.75076923,\n",
       "        98.15076923,  98.35076923,  98.15076923,  98.55076923,\n",
       "        98.75076923,  98.45076923,  98.65076923,  97.95076923,\n",
       "        98.85076923,  98.95076923,  99.65076923,  99.85076923,\n",
       "        99.45076923,  98.65076923,  98.25076923,  96.75076923,\n",
       "        98.75076923,  98.75076923,  97.25076923,  97.55076923,\n",
       "        99.35076923,  98.25076923,  97.75076923,  97.75076923,\n",
       "        98.25076923,  97.45076923,  99.25076923,  98.65076923,\n",
       "        98.85076923,  98.95076923,  98.55076923,  98.95076923,\n",
       "        99.15076923,  98.55076923,  98.55076923,  97.95076923,\n",
       "        99.45076923,  98.75076923,  98.55076923,  98.95076923,\n",
       "        99.05076923,  97.75076923,  97.75076923,  98.95076923,\n",
       "        99.05076923,  99.25076923,  98.45076923,  98.05076923,\n",
       "        98.35076923,  99.15076923,  99.35076923,  99.15076923,\n",
       "        98.35076923,  98.75076923,  97.75076923,  97.95076923,\n",
       "        99.15076923,  98.35076923,  97.85076923,  99.55076923,\n",
       "        98.95076923,  97.45076923,  98.95076923,  98.35076923,\n",
       "        99.05076923,  98.45076923,  98.15076923, 100.35076923,\n",
       "        99.15076923,  97.45076923,  98.15076923,  97.15076923,\n",
       "       100.25076923,  99.05076923,  99.15076923,  98.35076923,\n",
       "        99.35076923,  98.85076923,  98.35076923,  99.75076923,\n",
       "        97.95076923,  97.05076923,  97.35076923,  98.95076923,\n",
       "        99.05076923,  97.65076923,  99.15076923,  98.35076923,\n",
       "        98.55076923,  99.45076923,  99.35076923,  98.35076923,\n",
       "       101.15076923,  98.15076923,  99.05076923,  98.75076923,\n",
       "        98.05076923,  98.25076923,  99.35076923,  97.55076923,\n",
       "        97.85076923,  96.65076923,  98.05076923,  98.55076923,\n",
       "        98.25076923,  99.05076923])"
      ]
     },
     "execution_count": 40,
     "metadata": {},
     "output_type": "execute_result"
    }
   ],
   "source": [
    "translated_temp = df.temperature-np.mean(df.temperature)+98.6\n",
    "translated_temp = translated_temp.values\n",
    "translated_temp"
   ]
  },
  {
   "cell_type": "code",
   "execution_count": 41,
   "metadata": {},
   "outputs": [
    {
     "data": {
      "text/plain": [
       "0.3384615384615385"
      ]
     },
     "execution_count": 41,
     "metadata": {},
     "output_type": "execute_result"
    }
   ],
   "source": [
    "p = np.sum(bootstrap_samples>=translated_temp)/len(translated_temp)\n",
    "p"
   ]
  },
  {
   "cell_type": "markdown",
   "metadata": {},
   "source": [
    "## 33.85% of bootstrapped temperatures > translated temperatures centered at 98.6. We do not have enough evidence to reject the null hypothesis and conclude the temperature is not centered at 98.6."
   ]
  },
  {
   "cell_type": "markdown",
   "metadata": {},
   "source": [
    "## Question:Now, let's try frequentist statistical testing. Would you use a one-sample or two-sample test? Why? \n",
    "## I would use a one-sample test since we are testing if the sample mean is equivalent to a specific numeric value:98.6. A two-sample test is to test whether two sets of datas have the same mean. The bootstrap method above is a one-sample bootstrap hypothesis testing."
   ]
  },
  {
   "cell_type": "markdown",
   "metadata": {},
   "source": [
    "## Question: In this situation, is it appropriate to use the t or z statistic? Ans: z-statistic, since the sample size is large enough(n=130>30)"
   ]
  },
  {
   "cell_type": "code",
   "execution_count": 10,
   "metadata": {},
   "outputs": [],
   "source": [
    "#import scipy.stats as stats\n",
    "#print('t-statistic = %6.3f p-value = %6.4f' %  stats.ttest_1samp(df.temperature.values, 98.6))"
   ]
  },
  {
   "cell_type": "code",
   "execution_count": 11,
   "metadata": {},
   "outputs": [
    {
     "data": {
      "text/plain": [
       "-5.475925202078115"
      ]
     },
     "execution_count": 11,
     "metadata": {},
     "output_type": "execute_result"
    }
   ],
   "source": [
    "(np.mean(df.temperature)-98.6)/(np.std(df.temperature.values)/np.sqrt(130))"
   ]
  },
  {
   "cell_type": "markdown",
   "metadata": {},
   "source": [
    "## We can perform a two-sided z-test. The p-value corresponds to the above z-score is 0. Reject the null hypothesis that the mean is 98.6"
   ]
  },
  {
   "cell_type": "markdown",
   "metadata": {},
   "source": [
    "## Question:Now try using the other test. How is the result be different? Why?"
   ]
  },
  {
   "cell_type": "code",
   "execution_count": 22,
   "metadata": {},
   "outputs": [
    {
     "data": {
      "text/plain": [
       "array([ 99.3,  98.4,  97.8,  99.2,  98. ,  99.2,  98. ,  98.8,  98.4,\n",
       "        98.6,  98.8,  96.7,  98.2,  98.7,  97.8,  98.8,  98.3,  98.2,\n",
       "        97.2,  99.4,  98.3,  98.2,  98.6,  98.4,  97.8,  98. ,  97.8,\n",
       "        98.2,  98.4,  98.1,  98.3,  97.6,  98.5,  98.6,  99.3,  99.5,\n",
       "        99.1,  98.3,  97.9,  96.4,  98.4,  98.4,  96.9,  97.2,  99. ,\n",
       "        97.9,  97.4,  97.4,  97.9,  97.1,  98.9,  98.3,  98.5,  98.6,\n",
       "        98.2,  98.6,  98.8,  98.2,  98.2,  97.6,  99.1,  98.4,  98.2,\n",
       "        98.6,  98.7,  97.4,  97.4,  98.6,  98.7,  98.9,  98.1,  97.7,\n",
       "        98. ,  98.8,  99. ,  98.8,  98. ,  98.4,  97.4,  97.6,  98.8,\n",
       "        98. ,  97.5,  99.2,  98.6,  97.1,  98.6,  98. ,  98.7,  98.1,\n",
       "        97.8, 100. ,  98.8,  97.1,  97.8,  96.8,  99.9,  98.7,  98.8,\n",
       "        98. ,  99. ,  98.5,  98. ,  99.4,  97.6,  96.7,  97. ,  98.6,\n",
       "        98.7,  97.3,  98.8,  98. ,  98.2,  99.1,  99. ,  98. , 100.8,\n",
       "        97.8,  98.7,  98.4,  97.7,  97.9,  99. ,  97.2,  97.5,  96.3,\n",
       "        97.7,  98.2,  97.9,  98.7])"
      ]
     },
     "execution_count": 22,
     "metadata": {},
     "output_type": "execute_result"
    }
   ],
   "source": [
    "sample1 = df.temperature.values\n",
    "sample1"
   ]
  },
  {
   "cell_type": "code",
   "execution_count": 23,
   "metadata": {},
   "outputs": [
    {
     "data": {
      "text/plain": [
       "array([ 98.88060673,  98.28480332,  98.68450733,  98.88909781,\n",
       "        98.82625396,  97.71768843,  98.33716081,  99.15665608,\n",
       "        98.58991005,  98.71217593,  98.29168444,  97.96032743,\n",
       "        99.22691474,  98.84889234,  98.60363806,  98.54149784,\n",
       "        98.35254123,  98.15632424,  98.48872626,  98.74928273,\n",
       "        98.60704614,  98.25006912,  97.98914286,  99.75257704,\n",
       "        99.14697649,  99.07935578,  96.94025669,  98.96040674,\n",
       "        98.61325421,  98.27237034,  99.18992123,  98.10357155,\n",
       "        99.32648377,  97.61042185,  98.75971867,  98.91107219,\n",
       "        98.40468309,  98.42086531,  98.43961913,  98.58698238,\n",
       "        98.06443091,  99.39407425,  98.99345315,  98.72111829,\n",
       "        98.45166651,  98.63178019,  99.17372087,  98.58776833,\n",
       "        98.72794792,  98.5671222 ,  99.5691258 ,  98.73444379,\n",
       "        98.55266343,  97.89930749,  97.76502243,  97.50114077,\n",
       "        99.40265613,  98.30147131,  98.9748996 ,  98.29845959,\n",
       "        98.17234099,  97.09633331,  98.02195667,  99.68571715,\n",
       "        98.17696841,  99.41890946,  97.28696932,  99.33062649,\n",
       "        99.07353783,  97.81940542,  97.37857957,  97.31859032,\n",
       "        99.27792626,  98.52921765,  97.35401376,  98.48728244,\n",
       "        99.08501569,  98.48444235,  97.55774171,  99.03875433,\n",
       "        97.80480819,  98.69445864,  99.5340097 ,  98.62111777,\n",
       "        99.99762121,  96.56451035,  98.4193467 ,  98.98614886,\n",
       "        99.01281162,  97.79806789,  98.96587541,  98.1578599 ,\n",
       "        98.45300636,  98.15256875, 100.41518746,  98.71896271,\n",
       "        97.52817235,  98.75046012,  99.2587243 ,  99.84492796,\n",
       "        97.47427007,  98.91333953,  98.2732947 ,  97.77694818,\n",
       "        98.27663384,  98.11413927,  99.21998476,  98.40534254,\n",
       "        99.91994781,  97.69678317,  98.76582248,  97.91295081,\n",
       "        97.90865758,  99.50231551,  99.30484433,  98.31319459,\n",
       "        98.7362268 ,  98.40635018,  99.10392613,  97.52702312,\n",
       "        98.42347629,  98.63945574,  97.7716852 ,  99.3039991 ,\n",
       "        97.75200717,  99.19592003,  98.10368132,  97.64466405,\n",
       "        99.01067547,  99.5197139 ])"
      ]
     },
     "execution_count": 23,
     "metadata": {},
     "output_type": "execute_result"
    }
   ],
   "source": [
    "sample2 = np.random.normal(98.6, np.std(df.temperature), 130)\n",
    "sample2"
   ]
  },
  {
   "cell_type": "code",
   "execution_count": 24,
   "metadata": {},
   "outputs": [
    {
     "data": {
      "text/plain": [
       "array([ 0.41939327,  0.11519668, -0.88450733,  0.31090219, -0.82625396,\n",
       "        1.48231157, -0.33716081, -0.35665608, -0.18991005, -0.11217593,\n",
       "        0.50831556, -1.26032743, -1.02691474, -0.14889234, -0.80363806,\n",
       "        0.25850216, -0.05254123,  0.04367576, -1.28872626,  0.65071727,\n",
       "       -0.30704614, -0.05006912,  0.61085714, -1.35257704, -1.34697649,\n",
       "       -1.07935578,  0.85974331, -0.76040674, -0.21325421, -0.17237034,\n",
       "       -0.88992123, -0.50357155, -0.82648377,  0.98957815,  0.54028133,\n",
       "        0.58892781,  0.69531691, -0.12086531, -0.53961913, -2.18698238,\n",
       "        0.33556909, -0.99407425, -2.09345315, -1.52111829,  0.54833349,\n",
       "       -0.73178019, -1.77372087, -1.18776833, -0.82794792, -1.4671222 ,\n",
       "       -0.6691258 , -0.43444379, -0.05266343,  0.70069251,  0.43497757,\n",
       "        1.09885923, -0.60265613, -0.10147131, -0.7748996 , -0.69845959,\n",
       "        0.92765901,  1.30366669,  0.17804333, -1.08571715,  0.52303159,\n",
       "       -2.01890946,  0.11303068, -0.73062649, -0.37353783,  1.08059458,\n",
       "        0.72142043,  0.38140968, -1.27792626,  0.27078235,  1.64598624,\n",
       "        0.31271756, -1.08501569, -0.08444235, -0.15774171, -1.43875433,\n",
       "        0.99519181, -0.69445864, -2.0340097 ,  0.57888223, -1.39762121,\n",
       "        0.53548965,  0.1806533 , -0.98614886, -0.31281162,  0.30193211,\n",
       "       -1.16587541,  1.8421401 ,  0.34699364, -1.05256875, -2.61518746,\n",
       "       -1.91896271,  2.37182765, -0.05046012, -0.4587243 , -1.84492796,\n",
       "        1.52572993, -0.41333953, -0.2732947 ,  1.62305182, -0.67663384,\n",
       "       -1.41413927, -2.21998476,  0.19465746, -1.21994781, -0.39678317,\n",
       "        0.03417752,  0.08704919,  0.29134242, -0.40231551, -0.30484433,\n",
       "       -0.31319459,  2.0637732 , -0.60635018, -0.40392613,  0.87297688,\n",
       "       -0.72347629, -0.73945574,  1.2283148 , -2.1039991 , -0.25200717,\n",
       "       -2.89592003, -0.40368132,  0.55533595, -1.11067547, -0.8197139 ])"
      ]
     },
     "execution_count": 24,
     "metadata": {},
     "output_type": "execute_result"
    }
   ],
   "source": [
    "diff = sample1-sample2\n",
    "diff"
   ]
  },
  {
   "cell_type": "markdown",
   "metadata": {},
   "source": [
    "## By the central limit theorem, under the null hypothesis that the mean of df.temperature is 98.6, diff should follow a normal distribution with mean 0."
   ]
  },
  {
   "cell_type": "code",
   "execution_count": 25,
   "metadata": {},
   "outputs": [
    {
     "data": {
      "text/plain": [
       "-3.3609501330443203"
      ]
     },
     "execution_count": 25,
     "metadata": {},
     "output_type": "execute_result"
    }
   ],
   "source": [
    "np.mean(diff)/(np.std(diff)/np.sqrt(130))"
   ]
  },
  {
   "cell_type": "markdown",
   "metadata": {},
   "source": [
    "## The above z-statistic corresponds to a p-value of 0.0008 for a two-sided test, we can reject the null hypothesis that the mean of df.temperature is 98.6 if we set the confidence level of to be 99.9%."
   ]
  },
  {
   "cell_type": "markdown",
   "metadata": {},
   "source": [
    "## The result is still to reject the null hypothesis of the mean is 98.6 but the p-value is slightly larger. The reason for the larger p-value is that in the previous one-sample test, we actually compared  the orginal sample to a constant 98.6 while in the two-sample test, we compared the original sample to a normal distribution. The variance of the generated comparative sample in the two-sample test makes the difference."
   ]
  },
  {
   "cell_type": "markdown",
   "metadata": {},
   "source": [
    "## 4.Draw a small sample of size 10 from the data and repeat both frequentist tests. "
   ]
  },
  {
   "cell_type": "code",
   "execution_count": 42,
   "metadata": {},
   "outputs": [
    {
     "data": {
      "text/plain": [
       "array([98.8, 97.7, 97.6, 98.9, 97.9, 97.9, 98.3, 98.7, 97.4, 97.8])"
      ]
     },
     "execution_count": 42,
     "metadata": {},
     "output_type": "execute_result"
    }
   ],
   "source": [
    "df_sample = np.random.choice(df.temperature,10)\n",
    "df_sample"
   ]
  },
  {
   "cell_type": "markdown",
   "metadata": {},
   "source": [
    "## Question: Which one is the correct one to use? "
   ]
  },
  {
   "cell_type": "markdown",
   "metadata": {},
   "source": [
    "## Answer: A one-sample test is the correct one to use. A two-sample test is to test the difference between two statistical quantities. First I will do a one-sample test. Since the statement in part 4 also requests us to \"repeat both frequentist tests\", I assume this is refered to \"one-sample test\" and \"two-sample test\". I will do a two-sample test for completion."
   ]
  },
  {
   "cell_type": "markdown",
   "metadata": {},
   "source": [
    "## The following is a one-sample two-sided t-test. Since the sample size is 10 < 30, a t-test is applied. The null hypothesis is H0: the mean is 98.6."
   ]
  },
  {
   "cell_type": "code",
   "execution_count": 44,
   "metadata": {},
   "outputs": [
    {
     "data": {
      "text/plain": [
       "-3.100868364730211"
      ]
     },
     "execution_count": 44,
     "metadata": {},
     "output_type": "execute_result"
    }
   ],
   "source": [
    "t_statistic = (np.mean(df_sample)-98.6)/(np.std(df_sample)/np.sqrt(10))\n",
    "t_statistic"
   ]
  },
  {
   "cell_type": "markdown",
   "metadata": {},
   "source": [
    "## The t-statistic corresponds to a p-value of 0.0127 for a two-sided t-test with 9 degrees of freedom. We will reject the null hypothesis at a 95% confidence level and cannot reject the null hypothesis at a 99% confidence level."
   ]
  },
  {
   "cell_type": "markdown",
   "metadata": {},
   "source": [
    "## The following is a two-sample two-sided t-test. A comparison sample needs to be generated first. We are testing if the mean of the difference is zero."
   ]
  },
  {
   "cell_type": "code",
   "execution_count": 45,
   "metadata": {},
   "outputs": [
    {
     "data": {
      "text/plain": [
       "array([99.55243231, 99.27439344, 98.45319629, 99.29307772, 98.66978306,\n",
       "       98.81966305, 98.47700862, 98.20945467, 99.00297341, 98.42232248])"
      ]
     },
     "execution_count": 45,
     "metadata": {},
     "output_type": "execute_result"
    }
   ],
   "source": [
    "df_sample2 = np.random.normal(98.6, np.std(df_sample), 10)\n",
    "df_sample2"
   ]
  },
  {
   "cell_type": "code",
   "execution_count": 46,
   "metadata": {},
   "outputs": [
    {
     "data": {
      "text/plain": [
       "-3.8639836471888542"
      ]
     },
     "execution_count": 46,
     "metadata": {},
     "output_type": "execute_result"
    }
   ],
   "source": [
    "diff = df_sample - df_sample2\n",
    "t_statistic = np.mean(diff)/(np.std(diff)/np.sqrt(10))\n",
    "t_statistic"
   ]
  },
  {
   "cell_type": "markdown",
   "metadata": {},
   "source": [
    "## The t-statistic corresponds to a p-value of 0.0038. We will reject the null hypothesis that the original has a mean of 98.6 at a 99.5% confidence level."
   ]
  },
  {
   "cell_type": "markdown",
   "metadata": {},
   "source": [
    "## Question: What do you notice? What does this tell you about the difference in application of the t and z statistic? "
   ]
  },
  {
   "cell_type": "markdown",
   "metadata": {},
   "source": [
    "## Ans: The t-statistic gives a higher p-value in both one-sample and two-sample tests than the counterparts of the z-statistic. "
   ]
  },
  {
   "cell_type": "markdown",
   "metadata": {},
   "source": [
    "## 5.At what temperature should we consider someone's temperature to be \"abnormal\"? \n",
    "### As in the previous example, try calculating everything using the boostrap approach, as well as the frequentist approach. \n",
    "### Start by computing the margin of error and confidence interval. When calculating the confidence interval, keep in mind that you should use the appropriate formula for one draw, and not N draws. "
   ]
  },
  {
   "cell_type": "markdown",
   "metadata": {},
   "source": [
    "## The following is the Bootstrap approach."
   ]
  },
  {
   "cell_type": "code",
   "execution_count": 47,
   "metadata": {},
   "outputs": [
    {
     "data": {
      "text/plain": [
       "array([98.34, 98.32, 98.16, 98.1 , 98.3 , 97.94, 98.08, 98.1 , 97.88,\n",
       "       98.4 , 97.86, 98.2 , 98.36, 98.74, 98.24, 98.28, 98.56, 98.22,\n",
       "       98.02, 98.88, 98.18, 98.72, 97.78, 98.44, 98.36, 99.14, 98.4 ,\n",
       "       97.98, 98.14, 98.52, 97.38, 98.2 , 98.2 , 98.36, 98.36, 97.9 ,\n",
       "       98.72, 98.54, 98.76, 98.48, 98.74, 98.12, 98.66, 98.26, 98.64,\n",
       "       98.88, 97.94, 98.2 , 98.28, 98.54, 97.9 , 98.48, 98.42, 98.  ,\n",
       "       98.36, 98.18, 98.48, 98.68, 98.18, 97.98, 98.48, 98.08, 98.7 ,\n",
       "       98.28, 98.04, 98.12, 97.98, 98.7 , 98.52, 98.3 , 97.48, 98.22,\n",
       "       99.12, 97.74, 98.58, 98.14, 97.84, 98.46, 98.54, 98.36, 98.24,\n",
       "       98.3 , 98.54, 97.88, 98.94, 98.1 , 98.72, 98.22, 98.2 , 98.3 ,\n",
       "       98.26, 98.34, 98.2 , 98.  , 98.18, 97.38, 98.14, 98.54, 97.58,\n",
       "       97.94, 98.4 , 98.5 , 98.34, 97.7 , 98.12, 98.62, 97.64, 98.44,\n",
       "       98.04, 98.72, 98.42, 97.74, 98.5 , 97.78, 98.4 , 98.18, 99.18,\n",
       "       97.34, 98.54, 98.22, 98.58, 98.94, 97.94, 98.1 , 98.2 , 97.98,\n",
       "       97.92, 98.06, 98.36, 98.46])"
      ]
     },
     "execution_count": 47,
     "metadata": {},
     "output_type": "execute_result"
    }
   ],
   "source": [
    "bootstrap_samples"
   ]
  },
  {
   "cell_type": "code",
   "execution_count": 68,
   "metadata": {},
   "outputs": [
    {
     "data": {
      "text/plain": [
       "97.36580000000001"
      ]
     },
     "execution_count": 68,
     "metadata": {},
     "output_type": "execute_result"
    }
   ],
   "source": [
    "np.percentile(bootstrap_samples,0.5)"
   ]
  },
  {
   "cell_type": "code",
   "execution_count": 69,
   "metadata": {},
   "outputs": [
    {
     "data": {
      "text/plain": [
       "99.1542"
      ]
     },
     "execution_count": 69,
     "metadata": {},
     "output_type": "execute_result"
    }
   ],
   "source": [
    "np.percentile(bootstrap_samples,99.5)"
   ]
  },
  {
   "cell_type": "code",
   "execution_count": 63,
   "metadata": {},
   "outputs": [
    {
     "name": "stdout",
     "output_type": "stream",
     "text": [
      "99.17999999999999\n",
      "97.34\n"
     ]
    }
   ],
   "source": [
    "for i in range(len(bootstrap_samples)):\n",
    "    if bootstrap_samples[i]<np.percentile(bootstrap_samples,0.5) or bootstrap_samples[i]>np.percentile(bootstrap_samples,99.5):\n",
    "        print(bootstrap_samples[i])"
   ]
  },
  {
   "cell_type": "code",
   "execution_count": 71,
   "metadata": {},
   "outputs": [
    {
     "name": "stdout",
     "output_type": "stream",
     "text": [
      "99.3\n",
      "99.2\n",
      "99.2\n",
      "96.7\n",
      "97.2\n",
      "99.4\n",
      "99.3\n",
      "99.5\n",
      "96.4\n",
      "96.9\n",
      "97.2\n",
      "97.1\n",
      "99.2\n",
      "97.1\n",
      "100.0\n",
      "97.1\n",
      "96.8\n",
      "99.9\n",
      "99.4\n",
      "96.7\n",
      "97.0\n",
      "97.3\n",
      "100.8\n",
      "97.2\n",
      "96.3\n"
     ]
    }
   ],
   "source": [
    "for i in range(len(df.temperature.values)):\n",
    "    if df.temperature.values[i]<np.percentile(bootstrap_samples,0.5) or df.temperature.values[i]>np.percentile(bootstrap_samples,99.5):\n",
    "        print(df.temperature.values[i])"
   ]
  },
  {
   "cell_type": "markdown",
   "metadata": {},
   "source": [
    "## In the Bootstrap approach, the .5% percentile and the 99.5% percentile is computed for the Bootstrap sample and a 99% confidence interval is obtained which is [97.34,99.18]. The records that fall outside of this range is considered to be abnormal. "
   ]
  },
  {
   "cell_type": "markdown",
   "metadata": {},
   "source": [
    "## The following is the frequentist approach which is based on the central limit theorem and the z-statistic."
   ]
  },
  {
   "cell_type": "code",
   "execution_count": 92,
   "metadata": {},
   "outputs": [
    {
     "data": {
      "text/plain": [
       "98.24923076923075"
      ]
     },
     "execution_count": 92,
     "metadata": {},
     "output_type": "execute_result"
    }
   ],
   "source": [
    "np.mean(df.temperature.values)"
   ]
  },
  {
   "cell_type": "code",
   "execution_count": 96,
   "metadata": {},
   "outputs": [
    {
     "data": {
      "text/plain": [
       "98.08422092977592"
      ]
     },
     "execution_count": 96,
     "metadata": {},
     "output_type": "execute_result"
    }
   ],
   "source": [
    "lower = np.mean(df.temperature.values)-2.576*np.std(df.temperature.values)/np.sqrt(130)\n",
    "lower\n",
    "#-2.576 is the 0.5% percentile for the standard normal distribution"
   ]
  },
  {
   "cell_type": "code",
   "execution_count": 97,
   "metadata": {},
   "outputs": [
    {
     "data": {
      "text/plain": [
       "98.41424060868557"
      ]
     },
     "execution_count": 97,
     "metadata": {},
     "output_type": "execute_result"
    }
   ],
   "source": [
    "upper = np.mean(df.temperature.values)+2.576*np.std(df.temperature.values)/np.sqrt(130)\n",
    "upper\n",
    "#2.576 is the 99.5% percentile fot the standard normal distribution"
   ]
  },
  {
   "cell_type": "code",
   "execution_count": 100,
   "metadata": {},
   "outputs": [
    {
     "name": "stdout",
     "output_type": "stream",
     "text": [
      "99.3\n",
      "97.8\n",
      "99.2\n",
      "98.0\n",
      "99.2\n",
      "98.0\n",
      "98.8\n",
      "98.6\n",
      "98.8\n",
      "96.7\n",
      "98.7\n",
      "97.8\n",
      "98.8\n",
      "97.2\n",
      "99.4\n",
      "98.6\n",
      "97.8\n",
      "98.0\n",
      "97.8\n",
      "97.6\n",
      "98.5\n",
      "98.6\n",
      "99.3\n",
      "99.5\n",
      "99.1\n",
      "97.9\n",
      "96.4\n",
      "96.9\n",
      "97.2\n",
      "99.0\n",
      "97.9\n",
      "97.4\n",
      "97.4\n",
      "97.9\n",
      "97.1\n",
      "98.9\n",
      "98.5\n",
      "98.6\n",
      "98.6\n",
      "98.8\n",
      "97.6\n",
      "99.1\n",
      "98.6\n",
      "98.7\n",
      "97.4\n",
      "97.4\n",
      "98.6\n",
      "98.7\n",
      "98.9\n",
      "97.7\n",
      "98.0\n",
      "98.8\n",
      "99.0\n",
      "98.8\n",
      "98.0\n",
      "97.4\n",
      "97.6\n",
      "98.8\n",
      "98.0\n",
      "97.5\n",
      "99.2\n",
      "98.6\n",
      "97.1\n",
      "98.6\n",
      "98.0\n",
      "98.7\n",
      "97.8\n",
      "100.0\n",
      "98.8\n",
      "97.1\n",
      "97.8\n",
      "96.8\n",
      "99.9\n",
      "98.7\n",
      "98.8\n",
      "98.0\n",
      "99.0\n",
      "98.5\n",
      "98.0\n",
      "99.4\n",
      "97.6\n",
      "96.7\n",
      "97.0\n",
      "98.6\n",
      "98.7\n",
      "97.3\n",
      "98.8\n",
      "98.0\n",
      "99.1\n",
      "99.0\n",
      "98.0\n",
      "100.8\n",
      "97.8\n",
      "98.7\n",
      "97.7\n",
      "97.9\n",
      "99.0\n",
      "97.2\n",
      "97.5\n",
      "96.3\n",
      "97.7\n",
      "97.9\n",
      "98.7\n",
      "The number of abnormalies is  103\n"
     ]
    }
   ],
   "source": [
    "count = 0\n",
    "for i in range(len(df.temperature.values)):\n",
    "    if df.temperature.values[i]<lower or df.temperature.values[i]>upper:\n",
    "        count +=1\n",
    "        print(df.temperature.values[i])\n",
    "print('The number of abnormalies is ', count)"
   ]
  },
  {
   "cell_type": "markdown",
   "metadata": {},
   "source": [
    "## In the frequentist approach, the .5% percentile and the 99.5% percentile is computed for the original sample and a 99% confidence interval is obtained which is [98.08,98.41]. The records that fall outside of this range is considered to be abnormal. "
   ]
  },
  {
   "cell_type": "markdown",
   "metadata": {},
   "source": [
    "## http://www.stat.yale.edu/Courses/1997-98/101/confint.htm uses a t-test to find a 95% confidence interval:(98.123,98.375). 115 records of the data falls outside of the 95% confidence interval based on the t-test."
   ]
  },
  {
   "cell_type": "markdown",
   "metadata": {},
   "source": [
    "## 6.Is there a significant difference between males and females in normal temperature? \n",
    "### What testing approach did you use and why? \n",
    "### Write a story with your conclusion in the context of the original problem."
   ]
  },
  {
   "cell_type": "markdown",
   "metadata": {},
   "source": [
    "## I will separate the original sample into two groups according to the gender. Then a two-sided t-test will be performed to determine whether the two groups have the same mean."
   ]
  },
  {
   "cell_type": "code",
   "execution_count": 103,
   "metadata": {},
   "outputs": [
    {
     "data": {
      "text/html": [
       "<div>\n",
       "<style scoped>\n",
       "    .dataframe tbody tr th:only-of-type {\n",
       "        vertical-align: middle;\n",
       "    }\n",
       "\n",
       "    .dataframe tbody tr th {\n",
       "        vertical-align: top;\n",
       "    }\n",
       "\n",
       "    .dataframe thead th {\n",
       "        text-align: right;\n",
       "    }\n",
       "</style>\n",
       "<table border=\"1\" class=\"dataframe\">\n",
       "  <thead>\n",
       "    <tr style=\"text-align: right;\">\n",
       "      <th></th>\n",
       "      <th>temperature</th>\n",
       "      <th>gender</th>\n",
       "      <th>heart_rate</th>\n",
       "    </tr>\n",
       "  </thead>\n",
       "  <tbody>\n",
       "    <tr>\n",
       "      <th>2</th>\n",
       "      <td>97.8</td>\n",
       "      <td>M</td>\n",
       "      <td>73.0</td>\n",
       "    </tr>\n",
       "    <tr>\n",
       "      <th>5</th>\n",
       "      <td>99.2</td>\n",
       "      <td>M</td>\n",
       "      <td>83.0</td>\n",
       "    </tr>\n",
       "    <tr>\n",
       "      <th>6</th>\n",
       "      <td>98.0</td>\n",
       "      <td>M</td>\n",
       "      <td>71.0</td>\n",
       "    </tr>\n",
       "    <tr>\n",
       "      <th>7</th>\n",
       "      <td>98.8</td>\n",
       "      <td>M</td>\n",
       "      <td>78.0</td>\n",
       "    </tr>\n",
       "    <tr>\n",
       "      <th>12</th>\n",
       "      <td>98.2</td>\n",
       "      <td>M</td>\n",
       "      <td>72.0</td>\n",
       "    </tr>\n",
       "    <tr>\n",
       "      <th>17</th>\n",
       "      <td>98.2</td>\n",
       "      <td>M</td>\n",
       "      <td>64.0</td>\n",
       "    </tr>\n",
       "    <tr>\n",
       "      <th>19</th>\n",
       "      <td>99.4</td>\n",
       "      <td>M</td>\n",
       "      <td>70.0</td>\n",
       "    </tr>\n",
       "    <tr>\n",
       "      <th>21</th>\n",
       "      <td>98.2</td>\n",
       "      <td>M</td>\n",
       "      <td>71.0</td>\n",
       "    </tr>\n",
       "    <tr>\n",
       "      <th>22</th>\n",
       "      <td>98.6</td>\n",
       "      <td>M</td>\n",
       "      <td>70.0</td>\n",
       "    </tr>\n",
       "    <tr>\n",
       "      <th>23</th>\n",
       "      <td>98.4</td>\n",
       "      <td>M</td>\n",
       "      <td>68.0</td>\n",
       "    </tr>\n",
       "    <tr>\n",
       "      <th>24</th>\n",
       "      <td>97.8</td>\n",
       "      <td>M</td>\n",
       "      <td>65.0</td>\n",
       "    </tr>\n",
       "    <tr>\n",
       "      <th>29</th>\n",
       "      <td>98.1</td>\n",
       "      <td>M</td>\n",
       "      <td>67.0</td>\n",
       "    </tr>\n",
       "    <tr>\n",
       "      <th>30</th>\n",
       "      <td>98.3</td>\n",
       "      <td>M</td>\n",
       "      <td>86.0</td>\n",
       "    </tr>\n",
       "    <tr>\n",
       "      <th>32</th>\n",
       "      <td>98.5</td>\n",
       "      <td>M</td>\n",
       "      <td>71.0</td>\n",
       "    </tr>\n",
       "    <tr>\n",
       "      <th>33</th>\n",
       "      <td>98.6</td>\n",
       "      <td>M</td>\n",
       "      <td>82.0</td>\n",
       "    </tr>\n",
       "    <tr>\n",
       "      <th>34</th>\n",
       "      <td>99.3</td>\n",
       "      <td>M</td>\n",
       "      <td>63.0</td>\n",
       "    </tr>\n",
       "    <tr>\n",
       "      <th>35</th>\n",
       "      <td>99.5</td>\n",
       "      <td>M</td>\n",
       "      <td>75.0</td>\n",
       "    </tr>\n",
       "    <tr>\n",
       "      <th>36</th>\n",
       "      <td>99.1</td>\n",
       "      <td>M</td>\n",
       "      <td>71.0</td>\n",
       "    </tr>\n",
       "    <tr>\n",
       "      <th>37</th>\n",
       "      <td>98.3</td>\n",
       "      <td>M</td>\n",
       "      <td>72.0</td>\n",
       "    </tr>\n",
       "    <tr>\n",
       "      <th>41</th>\n",
       "      <td>98.4</td>\n",
       "      <td>M</td>\n",
       "      <td>82.0</td>\n",
       "    </tr>\n",
       "    <tr>\n",
       "      <th>42</th>\n",
       "      <td>96.9</td>\n",
       "      <td>M</td>\n",
       "      <td>74.0</td>\n",
       "    </tr>\n",
       "    <tr>\n",
       "      <th>43</th>\n",
       "      <td>97.2</td>\n",
       "      <td>M</td>\n",
       "      <td>64.0</td>\n",
       "    </tr>\n",
       "    <tr>\n",
       "      <th>46</th>\n",
       "      <td>97.4</td>\n",
       "      <td>M</td>\n",
       "      <td>72.0</td>\n",
       "    </tr>\n",
       "    <tr>\n",
       "      <th>47</th>\n",
       "      <td>97.4</td>\n",
       "      <td>M</td>\n",
       "      <td>68.0</td>\n",
       "    </tr>\n",
       "    <tr>\n",
       "      <th>48</th>\n",
       "      <td>97.9</td>\n",
       "      <td>M</td>\n",
       "      <td>76.0</td>\n",
       "    </tr>\n",
       "    <tr>\n",
       "      <th>49</th>\n",
       "      <td>97.1</td>\n",
       "      <td>M</td>\n",
       "      <td>82.0</td>\n",
       "    </tr>\n",
       "    <tr>\n",
       "      <th>53</th>\n",
       "      <td>98.6</td>\n",
       "      <td>M</td>\n",
       "      <td>78.0</td>\n",
       "    </tr>\n",
       "    <tr>\n",
       "      <th>57</th>\n",
       "      <td>98.2</td>\n",
       "      <td>M</td>\n",
       "      <td>66.0</td>\n",
       "    </tr>\n",
       "    <tr>\n",
       "      <th>59</th>\n",
       "      <td>97.6</td>\n",
       "      <td>M</td>\n",
       "      <td>73.0</td>\n",
       "    </tr>\n",
       "    <tr>\n",
       "      <th>61</th>\n",
       "      <td>98.4</td>\n",
       "      <td>M</td>\n",
       "      <td>84.0</td>\n",
       "    </tr>\n",
       "    <tr>\n",
       "      <th>...</th>\n",
       "      <td>...</td>\n",
       "      <td>...</td>\n",
       "      <td>...</td>\n",
       "    </tr>\n",
       "    <tr>\n",
       "      <th>73</th>\n",
       "      <td>98.8</td>\n",
       "      <td>M</td>\n",
       "      <td>81.0</td>\n",
       "    </tr>\n",
       "    <tr>\n",
       "      <th>74</th>\n",
       "      <td>99.0</td>\n",
       "      <td>M</td>\n",
       "      <td>75.0</td>\n",
       "    </tr>\n",
       "    <tr>\n",
       "      <th>75</th>\n",
       "      <td>98.8</td>\n",
       "      <td>M</td>\n",
       "      <td>78.0</td>\n",
       "    </tr>\n",
       "    <tr>\n",
       "      <th>77</th>\n",
       "      <td>98.4</td>\n",
       "      <td>M</td>\n",
       "      <td>70.0</td>\n",
       "    </tr>\n",
       "    <tr>\n",
       "      <th>78</th>\n",
       "      <td>97.4</td>\n",
       "      <td>M</td>\n",
       "      <td>78.0</td>\n",
       "    </tr>\n",
       "    <tr>\n",
       "      <th>79</th>\n",
       "      <td>97.6</td>\n",
       "      <td>M</td>\n",
       "      <td>74.0</td>\n",
       "    </tr>\n",
       "    <tr>\n",
       "      <th>81</th>\n",
       "      <td>98.0</td>\n",
       "      <td>M</td>\n",
       "      <td>67.0</td>\n",
       "    </tr>\n",
       "    <tr>\n",
       "      <th>82</th>\n",
       "      <td>97.5</td>\n",
       "      <td>M</td>\n",
       "      <td>70.0</td>\n",
       "    </tr>\n",
       "    <tr>\n",
       "      <th>85</th>\n",
       "      <td>97.1</td>\n",
       "      <td>M</td>\n",
       "      <td>75.0</td>\n",
       "    </tr>\n",
       "    <tr>\n",
       "      <th>87</th>\n",
       "      <td>98.0</td>\n",
       "      <td>M</td>\n",
       "      <td>78.0</td>\n",
       "    </tr>\n",
       "    <tr>\n",
       "      <th>88</th>\n",
       "      <td>98.7</td>\n",
       "      <td>M</td>\n",
       "      <td>73.0</td>\n",
       "    </tr>\n",
       "    <tr>\n",
       "      <th>89</th>\n",
       "      <td>98.1</td>\n",
       "      <td>M</td>\n",
       "      <td>73.0</td>\n",
       "    </tr>\n",
       "    <tr>\n",
       "      <th>90</th>\n",
       "      <td>97.8</td>\n",
       "      <td>M</td>\n",
       "      <td>74.0</td>\n",
       "    </tr>\n",
       "    <tr>\n",
       "      <th>93</th>\n",
       "      <td>97.1</td>\n",
       "      <td>M</td>\n",
       "      <td>73.0</td>\n",
       "    </tr>\n",
       "    <tr>\n",
       "      <th>94</th>\n",
       "      <td>97.8</td>\n",
       "      <td>M</td>\n",
       "      <td>58.0</td>\n",
       "    </tr>\n",
       "    <tr>\n",
       "      <th>99</th>\n",
       "      <td>98.0</td>\n",
       "      <td>M</td>\n",
       "      <td>74.0</td>\n",
       "    </tr>\n",
       "    <tr>\n",
       "      <th>100</th>\n",
       "      <td>99.0</td>\n",
       "      <td>M</td>\n",
       "      <td>81.0</td>\n",
       "    </tr>\n",
       "    <tr>\n",
       "      <th>101</th>\n",
       "      <td>98.5</td>\n",
       "      <td>M</td>\n",
       "      <td>68.0</td>\n",
       "    </tr>\n",
       "    <tr>\n",
       "      <th>104</th>\n",
       "      <td>97.6</td>\n",
       "      <td>M</td>\n",
       "      <td>69.0</td>\n",
       "    </tr>\n",
       "    <tr>\n",
       "      <th>105</th>\n",
       "      <td>96.7</td>\n",
       "      <td>M</td>\n",
       "      <td>71.0</td>\n",
       "    </tr>\n",
       "    <tr>\n",
       "      <th>106</th>\n",
       "      <td>97.0</td>\n",
       "      <td>M</td>\n",
       "      <td>80.0</td>\n",
       "    </tr>\n",
       "    <tr>\n",
       "      <th>107</th>\n",
       "      <td>98.6</td>\n",
       "      <td>M</td>\n",
       "      <td>66.0</td>\n",
       "    </tr>\n",
       "    <tr>\n",
       "      <th>109</th>\n",
       "      <td>97.3</td>\n",
       "      <td>M</td>\n",
       "      <td>69.0</td>\n",
       "    </tr>\n",
       "    <tr>\n",
       "      <th>114</th>\n",
       "      <td>99.0</td>\n",
       "      <td>M</td>\n",
       "      <td>79.0</td>\n",
       "    </tr>\n",
       "    <tr>\n",
       "      <th>115</th>\n",
       "      <td>98.0</td>\n",
       "      <td>M</td>\n",
       "      <td>64.0</td>\n",
       "    </tr>\n",
       "    <tr>\n",
       "      <th>118</th>\n",
       "      <td>98.7</td>\n",
       "      <td>M</td>\n",
       "      <td>78.0</td>\n",
       "    </tr>\n",
       "    <tr>\n",
       "      <th>124</th>\n",
       "      <td>97.5</td>\n",
       "      <td>M</td>\n",
       "      <td>75.0</td>\n",
       "    </tr>\n",
       "    <tr>\n",
       "      <th>125</th>\n",
       "      <td>96.3</td>\n",
       "      <td>M</td>\n",
       "      <td>70.0</td>\n",
       "    </tr>\n",
       "    <tr>\n",
       "      <th>126</th>\n",
       "      <td>97.7</td>\n",
       "      <td>M</td>\n",
       "      <td>77.0</td>\n",
       "    </tr>\n",
       "    <tr>\n",
       "      <th>128</th>\n",
       "      <td>97.9</td>\n",
       "      <td>M</td>\n",
       "      <td>72.0</td>\n",
       "    </tr>\n",
       "  </tbody>\n",
       "</table>\n",
       "<p>65 rows × 3 columns</p>\n",
       "</div>"
      ],
      "text/plain": [
       "     temperature gender  heart_rate\n",
       "2           97.8      M        73.0\n",
       "5           99.2      M        83.0\n",
       "6           98.0      M        71.0\n",
       "7           98.8      M        78.0\n",
       "12          98.2      M        72.0\n",
       "17          98.2      M        64.0\n",
       "19          99.4      M        70.0\n",
       "21          98.2      M        71.0\n",
       "22          98.6      M        70.0\n",
       "23          98.4      M        68.0\n",
       "24          97.8      M        65.0\n",
       "29          98.1      M        67.0\n",
       "30          98.3      M        86.0\n",
       "32          98.5      M        71.0\n",
       "33          98.6      M        82.0\n",
       "34          99.3      M        63.0\n",
       "35          99.5      M        75.0\n",
       "36          99.1      M        71.0\n",
       "37          98.3      M        72.0\n",
       "41          98.4      M        82.0\n",
       "42          96.9      M        74.0\n",
       "43          97.2      M        64.0\n",
       "46          97.4      M        72.0\n",
       "47          97.4      M        68.0\n",
       "48          97.9      M        76.0\n",
       "49          97.1      M        82.0\n",
       "53          98.6      M        78.0\n",
       "57          98.2      M        66.0\n",
       "59          97.6      M        73.0\n",
       "61          98.4      M        84.0\n",
       "..           ...    ...         ...\n",
       "73          98.8      M        81.0\n",
       "74          99.0      M        75.0\n",
       "75          98.8      M        78.0\n",
       "77          98.4      M        70.0\n",
       "78          97.4      M        78.0\n",
       "79          97.6      M        74.0\n",
       "81          98.0      M        67.0\n",
       "82          97.5      M        70.0\n",
       "85          97.1      M        75.0\n",
       "87          98.0      M        78.0\n",
       "88          98.7      M        73.0\n",
       "89          98.1      M        73.0\n",
       "90          97.8      M        74.0\n",
       "93          97.1      M        73.0\n",
       "94          97.8      M        58.0\n",
       "99          98.0      M        74.0\n",
       "100         99.0      M        81.0\n",
       "101         98.5      M        68.0\n",
       "104         97.6      M        69.0\n",
       "105         96.7      M        71.0\n",
       "106         97.0      M        80.0\n",
       "107         98.6      M        66.0\n",
       "109         97.3      M        69.0\n",
       "114         99.0      M        79.0\n",
       "115         98.0      M        64.0\n",
       "118         98.7      M        78.0\n",
       "124         97.5      M        75.0\n",
       "125         96.3      M        70.0\n",
       "126         97.7      M        77.0\n",
       "128         97.9      M        72.0\n",
       "\n",
       "[65 rows x 3 columns]"
      ]
     },
     "execution_count": 103,
     "metadata": {},
     "output_type": "execute_result"
    }
   ],
   "source": [
    "df_male = df.loc[df.gender=='M']\n",
    "df_male"
   ]
  },
  {
   "cell_type": "code",
   "execution_count": 104,
   "metadata": {},
   "outputs": [
    {
     "data": {
      "text/html": [
       "<div>\n",
       "<style scoped>\n",
       "    .dataframe tbody tr th:only-of-type {\n",
       "        vertical-align: middle;\n",
       "    }\n",
       "\n",
       "    .dataframe tbody tr th {\n",
       "        vertical-align: top;\n",
       "    }\n",
       "\n",
       "    .dataframe thead th {\n",
       "        text-align: right;\n",
       "    }\n",
       "</style>\n",
       "<table border=\"1\" class=\"dataframe\">\n",
       "  <thead>\n",
       "    <tr style=\"text-align: right;\">\n",
       "      <th></th>\n",
       "      <th>temperature</th>\n",
       "      <th>gender</th>\n",
       "      <th>heart_rate</th>\n",
       "    </tr>\n",
       "  </thead>\n",
       "  <tbody>\n",
       "    <tr>\n",
       "      <th>0</th>\n",
       "      <td>99.3</td>\n",
       "      <td>F</td>\n",
       "      <td>68.0</td>\n",
       "    </tr>\n",
       "    <tr>\n",
       "      <th>1</th>\n",
       "      <td>98.4</td>\n",
       "      <td>F</td>\n",
       "      <td>81.0</td>\n",
       "    </tr>\n",
       "    <tr>\n",
       "      <th>3</th>\n",
       "      <td>99.2</td>\n",
       "      <td>F</td>\n",
       "      <td>66.0</td>\n",
       "    </tr>\n",
       "    <tr>\n",
       "      <th>4</th>\n",
       "      <td>98.0</td>\n",
       "      <td>F</td>\n",
       "      <td>73.0</td>\n",
       "    </tr>\n",
       "    <tr>\n",
       "      <th>8</th>\n",
       "      <td>98.4</td>\n",
       "      <td>F</td>\n",
       "      <td>84.0</td>\n",
       "    </tr>\n",
       "    <tr>\n",
       "      <th>9</th>\n",
       "      <td>98.6</td>\n",
       "      <td>F</td>\n",
       "      <td>86.0</td>\n",
       "    </tr>\n",
       "    <tr>\n",
       "      <th>10</th>\n",
       "      <td>98.8</td>\n",
       "      <td>F</td>\n",
       "      <td>89.0</td>\n",
       "    </tr>\n",
       "    <tr>\n",
       "      <th>11</th>\n",
       "      <td>96.7</td>\n",
       "      <td>F</td>\n",
       "      <td>62.0</td>\n",
       "    </tr>\n",
       "    <tr>\n",
       "      <th>13</th>\n",
       "      <td>98.7</td>\n",
       "      <td>F</td>\n",
       "      <td>79.0</td>\n",
       "    </tr>\n",
       "    <tr>\n",
       "      <th>14</th>\n",
       "      <td>97.8</td>\n",
       "      <td>F</td>\n",
       "      <td>77.0</td>\n",
       "    </tr>\n",
       "    <tr>\n",
       "      <th>15</th>\n",
       "      <td>98.8</td>\n",
       "      <td>F</td>\n",
       "      <td>83.0</td>\n",
       "    </tr>\n",
       "    <tr>\n",
       "      <th>16</th>\n",
       "      <td>98.3</td>\n",
       "      <td>F</td>\n",
       "      <td>79.0</td>\n",
       "    </tr>\n",
       "    <tr>\n",
       "      <th>18</th>\n",
       "      <td>97.2</td>\n",
       "      <td>F</td>\n",
       "      <td>68.0</td>\n",
       "    </tr>\n",
       "    <tr>\n",
       "      <th>20</th>\n",
       "      <td>98.3</td>\n",
       "      <td>F</td>\n",
       "      <td>78.0</td>\n",
       "    </tr>\n",
       "    <tr>\n",
       "      <th>25</th>\n",
       "      <td>98.0</td>\n",
       "      <td>F</td>\n",
       "      <td>87.0</td>\n",
       "    </tr>\n",
       "    <tr>\n",
       "      <th>26</th>\n",
       "      <td>97.8</td>\n",
       "      <td>F</td>\n",
       "      <td>62.0</td>\n",
       "    </tr>\n",
       "    <tr>\n",
       "      <th>27</th>\n",
       "      <td>98.2</td>\n",
       "      <td>F</td>\n",
       "      <td>69.0</td>\n",
       "    </tr>\n",
       "    <tr>\n",
       "      <th>28</th>\n",
       "      <td>98.4</td>\n",
       "      <td>F</td>\n",
       "      <td>73.0</td>\n",
       "    </tr>\n",
       "    <tr>\n",
       "      <th>31</th>\n",
       "      <td>97.6</td>\n",
       "      <td>F</td>\n",
       "      <td>61.0</td>\n",
       "    </tr>\n",
       "    <tr>\n",
       "      <th>38</th>\n",
       "      <td>97.9</td>\n",
       "      <td>F</td>\n",
       "      <td>79.0</td>\n",
       "    </tr>\n",
       "    <tr>\n",
       "      <th>39</th>\n",
       "      <td>96.4</td>\n",
       "      <td>F</td>\n",
       "      <td>69.0</td>\n",
       "    </tr>\n",
       "    <tr>\n",
       "      <th>40</th>\n",
       "      <td>98.4</td>\n",
       "      <td>F</td>\n",
       "      <td>79.0</td>\n",
       "    </tr>\n",
       "    <tr>\n",
       "      <th>44</th>\n",
       "      <td>99.0</td>\n",
       "      <td>F</td>\n",
       "      <td>79.0</td>\n",
       "    </tr>\n",
       "    <tr>\n",
       "      <th>45</th>\n",
       "      <td>97.9</td>\n",
       "      <td>F</td>\n",
       "      <td>69.0</td>\n",
       "    </tr>\n",
       "    <tr>\n",
       "      <th>50</th>\n",
       "      <td>98.9</td>\n",
       "      <td>F</td>\n",
       "      <td>76.0</td>\n",
       "    </tr>\n",
       "    <tr>\n",
       "      <th>51</th>\n",
       "      <td>98.3</td>\n",
       "      <td>F</td>\n",
       "      <td>80.0</td>\n",
       "    </tr>\n",
       "    <tr>\n",
       "      <th>52</th>\n",
       "      <td>98.5</td>\n",
       "      <td>F</td>\n",
       "      <td>83.0</td>\n",
       "    </tr>\n",
       "    <tr>\n",
       "      <th>54</th>\n",
       "      <td>98.2</td>\n",
       "      <td>F</td>\n",
       "      <td>73.0</td>\n",
       "    </tr>\n",
       "    <tr>\n",
       "      <th>55</th>\n",
       "      <td>98.6</td>\n",
       "      <td>F</td>\n",
       "      <td>82.0</td>\n",
       "    </tr>\n",
       "    <tr>\n",
       "      <th>56</th>\n",
       "      <td>98.8</td>\n",
       "      <td>F</td>\n",
       "      <td>70.0</td>\n",
       "    </tr>\n",
       "    <tr>\n",
       "      <th>...</th>\n",
       "      <td>...</td>\n",
       "      <td>...</td>\n",
       "      <td>...</td>\n",
       "    </tr>\n",
       "    <tr>\n",
       "      <th>68</th>\n",
       "      <td>98.7</td>\n",
       "      <td>F</td>\n",
       "      <td>82.0</td>\n",
       "    </tr>\n",
       "    <tr>\n",
       "      <th>70</th>\n",
       "      <td>98.1</td>\n",
       "      <td>F</td>\n",
       "      <td>81.0</td>\n",
       "    </tr>\n",
       "    <tr>\n",
       "      <th>71</th>\n",
       "      <td>97.7</td>\n",
       "      <td>F</td>\n",
       "      <td>61.0</td>\n",
       "    </tr>\n",
       "    <tr>\n",
       "      <th>76</th>\n",
       "      <td>98.0</td>\n",
       "      <td>F</td>\n",
       "      <td>76.0</td>\n",
       "    </tr>\n",
       "    <tr>\n",
       "      <th>80</th>\n",
       "      <td>98.8</td>\n",
       "      <td>F</td>\n",
       "      <td>73.0</td>\n",
       "    </tr>\n",
       "    <tr>\n",
       "      <th>83</th>\n",
       "      <td>99.2</td>\n",
       "      <td>F</td>\n",
       "      <td>77.0</td>\n",
       "    </tr>\n",
       "    <tr>\n",
       "      <th>84</th>\n",
       "      <td>98.6</td>\n",
       "      <td>F</td>\n",
       "      <td>85.0</td>\n",
       "    </tr>\n",
       "    <tr>\n",
       "      <th>86</th>\n",
       "      <td>98.6</td>\n",
       "      <td>F</td>\n",
       "      <td>77.0</td>\n",
       "    </tr>\n",
       "    <tr>\n",
       "      <th>91</th>\n",
       "      <td>100.0</td>\n",
       "      <td>F</td>\n",
       "      <td>78.0</td>\n",
       "    </tr>\n",
       "    <tr>\n",
       "      <th>92</th>\n",
       "      <td>98.8</td>\n",
       "      <td>F</td>\n",
       "      <td>84.0</td>\n",
       "    </tr>\n",
       "    <tr>\n",
       "      <th>95</th>\n",
       "      <td>96.8</td>\n",
       "      <td>F</td>\n",
       "      <td>75.0</td>\n",
       "    </tr>\n",
       "    <tr>\n",
       "      <th>96</th>\n",
       "      <td>99.9</td>\n",
       "      <td>F</td>\n",
       "      <td>79.0</td>\n",
       "    </tr>\n",
       "    <tr>\n",
       "      <th>97</th>\n",
       "      <td>98.7</td>\n",
       "      <td>F</td>\n",
       "      <td>64.0</td>\n",
       "    </tr>\n",
       "    <tr>\n",
       "      <th>98</th>\n",
       "      <td>98.8</td>\n",
       "      <td>F</td>\n",
       "      <td>64.0</td>\n",
       "    </tr>\n",
       "    <tr>\n",
       "      <th>102</th>\n",
       "      <td>98.0</td>\n",
       "      <td>F</td>\n",
       "      <td>78.0</td>\n",
       "    </tr>\n",
       "    <tr>\n",
       "      <th>103</th>\n",
       "      <td>99.4</td>\n",
       "      <td>F</td>\n",
       "      <td>77.0</td>\n",
       "    </tr>\n",
       "    <tr>\n",
       "      <th>108</th>\n",
       "      <td>98.7</td>\n",
       "      <td>F</td>\n",
       "      <td>72.0</td>\n",
       "    </tr>\n",
       "    <tr>\n",
       "      <th>110</th>\n",
       "      <td>98.8</td>\n",
       "      <td>F</td>\n",
       "      <td>69.0</td>\n",
       "    </tr>\n",
       "    <tr>\n",
       "      <th>111</th>\n",
       "      <td>98.0</td>\n",
       "      <td>F</td>\n",
       "      <td>89.0</td>\n",
       "    </tr>\n",
       "    <tr>\n",
       "      <th>112</th>\n",
       "      <td>98.2</td>\n",
       "      <td>F</td>\n",
       "      <td>64.0</td>\n",
       "    </tr>\n",
       "    <tr>\n",
       "      <th>113</th>\n",
       "      <td>99.1</td>\n",
       "      <td>F</td>\n",
       "      <td>74.0</td>\n",
       "    </tr>\n",
       "    <tr>\n",
       "      <th>116</th>\n",
       "      <td>100.8</td>\n",
       "      <td>F</td>\n",
       "      <td>77.0</td>\n",
       "    </tr>\n",
       "    <tr>\n",
       "      <th>117</th>\n",
       "      <td>97.8</td>\n",
       "      <td>F</td>\n",
       "      <td>71.0</td>\n",
       "    </tr>\n",
       "    <tr>\n",
       "      <th>119</th>\n",
       "      <td>98.4</td>\n",
       "      <td>F</td>\n",
       "      <td>74.0</td>\n",
       "    </tr>\n",
       "    <tr>\n",
       "      <th>120</th>\n",
       "      <td>97.7</td>\n",
       "      <td>F</td>\n",
       "      <td>84.0</td>\n",
       "    </tr>\n",
       "    <tr>\n",
       "      <th>121</th>\n",
       "      <td>97.9</td>\n",
       "      <td>F</td>\n",
       "      <td>68.0</td>\n",
       "    </tr>\n",
       "    <tr>\n",
       "      <th>122</th>\n",
       "      <td>99.0</td>\n",
       "      <td>F</td>\n",
       "      <td>81.0</td>\n",
       "    </tr>\n",
       "    <tr>\n",
       "      <th>123</th>\n",
       "      <td>97.2</td>\n",
       "      <td>F</td>\n",
       "      <td>66.0</td>\n",
       "    </tr>\n",
       "    <tr>\n",
       "      <th>127</th>\n",
       "      <td>98.2</td>\n",
       "      <td>F</td>\n",
       "      <td>73.0</td>\n",
       "    </tr>\n",
       "    <tr>\n",
       "      <th>129</th>\n",
       "      <td>98.7</td>\n",
       "      <td>F</td>\n",
       "      <td>59.0</td>\n",
       "    </tr>\n",
       "  </tbody>\n",
       "</table>\n",
       "<p>65 rows × 3 columns</p>\n",
       "</div>"
      ],
      "text/plain": [
       "     temperature gender  heart_rate\n",
       "0           99.3      F        68.0\n",
       "1           98.4      F        81.0\n",
       "3           99.2      F        66.0\n",
       "4           98.0      F        73.0\n",
       "8           98.4      F        84.0\n",
       "9           98.6      F        86.0\n",
       "10          98.8      F        89.0\n",
       "11          96.7      F        62.0\n",
       "13          98.7      F        79.0\n",
       "14          97.8      F        77.0\n",
       "15          98.8      F        83.0\n",
       "16          98.3      F        79.0\n",
       "18          97.2      F        68.0\n",
       "20          98.3      F        78.0\n",
       "25          98.0      F        87.0\n",
       "26          97.8      F        62.0\n",
       "27          98.2      F        69.0\n",
       "28          98.4      F        73.0\n",
       "31          97.6      F        61.0\n",
       "38          97.9      F        79.0\n",
       "39          96.4      F        69.0\n",
       "40          98.4      F        79.0\n",
       "44          99.0      F        79.0\n",
       "45          97.9      F        69.0\n",
       "50          98.9      F        76.0\n",
       "51          98.3      F        80.0\n",
       "52          98.5      F        83.0\n",
       "54          98.2      F        73.0\n",
       "55          98.6      F        82.0\n",
       "56          98.8      F        70.0\n",
       "..           ...    ...         ...\n",
       "68          98.7      F        82.0\n",
       "70          98.1      F        81.0\n",
       "71          97.7      F        61.0\n",
       "76          98.0      F        76.0\n",
       "80          98.8      F        73.0\n",
       "83          99.2      F        77.0\n",
       "84          98.6      F        85.0\n",
       "86          98.6      F        77.0\n",
       "91         100.0      F        78.0\n",
       "92          98.8      F        84.0\n",
       "95          96.8      F        75.0\n",
       "96          99.9      F        79.0\n",
       "97          98.7      F        64.0\n",
       "98          98.8      F        64.0\n",
       "102         98.0      F        78.0\n",
       "103         99.4      F        77.0\n",
       "108         98.7      F        72.0\n",
       "110         98.8      F        69.0\n",
       "111         98.0      F        89.0\n",
       "112         98.2      F        64.0\n",
       "113         99.1      F        74.0\n",
       "116        100.8      F        77.0\n",
       "117         97.8      F        71.0\n",
       "119         98.4      F        74.0\n",
       "120         97.7      F        84.0\n",
       "121         97.9      F        68.0\n",
       "122         99.0      F        81.0\n",
       "123         97.2      F        66.0\n",
       "127         98.2      F        73.0\n",
       "129         98.7      F        59.0\n",
       "\n",
       "[65 rows x 3 columns]"
      ]
     },
     "execution_count": 104,
     "metadata": {},
     "output_type": "execute_result"
    }
   ],
   "source": [
    "df_female = df.loc[df.gender=='F']\n",
    "df_female"
   ]
  },
  {
   "cell_type": "code",
   "execution_count": 106,
   "metadata": {},
   "outputs": [
    {
     "data": {
      "text/plain": [
       "-2.3032202891943516"
      ]
     },
     "execution_count": 106,
     "metadata": {},
     "output_type": "execute_result"
    }
   ],
   "source": [
    "male = df_male.temperature.values\n",
    "female = df_female.temperature.values\n",
    "s1 = np.std(male)\n",
    "s2 = np.std(female)\n",
    "t = (np.mean(male)-np.mean(female))/np.sqrt(s1*s1/65+s2*s2/65)\n",
    "t"
   ]
  },
  {
   "cell_type": "markdown",
   "metadata": {},
   "source": [
    "## The degree of freedom is 64. The t-statstic corresponds to a p-value of 0.0245 for a two-sided t-test. We will reject the null hypothesis that both genders have the same mean of temperatures at the confidence level of 95% and fail to reject the null hypothesis at the confidence level of 99%. "
   ]
  },
  {
   "cell_type": "markdown",
   "metadata": {},
   "source": [
    "## My conclusion is the actual temperature for a normal human body is not 98.6F but is somewhat lower than that, at approximately 98.245F. Body temperatures in male bodies seem to be a little lower than body temperatures in female bodies."
   ]
  },
  {
   "cell_type": "code",
   "execution_count": null,
   "metadata": {},
   "outputs": [],
   "source": []
  }
 ],
 "metadata": {
  "kernelspec": {
   "display_name": "Python 3",
   "language": "python",
   "name": "python3"
  },
  "language_info": {
   "codemirror_mode": {
    "name": "ipython",
    "version": 3
   },
   "file_extension": ".py",
   "mimetype": "text/x-python",
   "name": "python",
   "nbconvert_exporter": "python",
   "pygments_lexer": "ipython3",
   "version": "3.6.6"
  }
 },
 "nbformat": 4,
 "nbformat_minor": 1
}
